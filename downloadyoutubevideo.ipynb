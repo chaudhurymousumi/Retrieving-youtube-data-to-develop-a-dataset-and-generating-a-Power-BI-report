{
  "nbformat": 4,
  "nbformat_minor": 0,
  "metadata": {
    "colab": {
      "provenance": [],
      "collapsed_sections": []
    },
    "kernelspec": {
      "name": "python3",
      "display_name": "Python 3"
    },
    "language_info": {
      "name": "python"
    }
  },
  "cells": [
    {
      "cell_type": "code",
      "execution_count": null,
      "metadata": {
        "id": "g3HpJixgZ4yn"
      },
      "outputs": [],
      "source": [
        "from __future__ import unicode_literals\n",
        "import youtube_dl\n",
        "\n",
        "def my_hook(d):\n",
        "    if d['status'] == 'finished':\n",
        "        print('Done downloading, now converting ...')\n",
        "\n",
        "video = 'https://www.youtube.com/watch?v=' + 'U2ewAGRjZ7g'\n",
        "with youtube_dl.YoutubeDL({}) as ydl:\n",
        "      info_dict = ydl.extract_info(video, download=False)\n",
        "      video_url = info_dict.get(\"url\", None)\n",
        "      video_id = info_dict.get(\"id\", None)\n",
        "      video_title = info_dict.get('title', None)\n",
        "      video_author = info_dict.get('author', None)\n",
        "\n",
        "ext = 'mp4'\n",
        "source = 'youtube'\n",
        "video_title = video_title.replace(\"(\", \"_\")\n",
        "video_title = video_title.replace(\")\", \"_\")\n",
        "video_title = video_title.replace(\" \", \"_\")\n",
        "video_title = video_title.replace(\":\", \"_\")\n",
        "\n",
        "ydl_opts = {\n",
        "    #'format': 'bestvideo[ext=mp4]+bestaudio[ext=m4a]/bestvideo+bestaudio',\n",
        "    'format': 'bestaudio/best',\n",
        "    'outtmpl': '{}-{}-ID{}.{}'.format(source, video_title, video_id, ext),\n",
        "    'noplaylist' : True,\n",
        "    'progress_hooks': [my_hook],\n",
        "    'postprocessors': [{\n",
        "        'key': 'FFmpegExtractAudio',\n",
        "        'preferredcodec': 'wav',\n",
        "        'preferredquality': '192',\n",
        "    }],\n",
        "}\n",
        "\n",
        "# Download\n",
        "with youtube_dl.YoutubeDL(ydl_opts) as ydl:\n",
        "    ydl.download([video])\n",
        "\n"
      ]
    }
  ]
}